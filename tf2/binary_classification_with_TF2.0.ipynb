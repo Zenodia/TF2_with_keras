{
 "cells": [
  {
   "cell_type": "code",
   "execution_count": 55,
   "metadata": {},
   "outputs": [],
   "source": [
    "from __future__ import absolute_import, division, print_function, unicode_literals\n",
    "# Install TensorFlow using pip in conda environment , make sure to create py36 \n",
    "# conda env create -n tf2_py36 python=3.6 anaconda to create the environment\n",
    "# once created the environment conda activate tf2_py36 and then pip install TF2.0\n",
    "# pip install tensorflow==2.0.0 \n",
    "\n",
    "import tensorflow as tf\n",
    "from tensorflow.keras.models import Sequential\n",
    "from tensorflow.keras.layers import Dense, Conv2D, Flatten, Dropout, MaxPooling2D\n",
    "from tensorflow.keras.callbacks import EarlyStopping, Callback , ModelCheckpoint\n",
    "import os\n",
    "import numpy as np\n",
    "import matplotlib.pyplot as plt\n",
    "import random\n",
    "\n",
    "%matplotlib inline"
   ]
  },
  {
   "cell_type": "code",
   "execution_count": 2,
   "metadata": {},
   "outputs": [
    {
     "data": {
      "text/plain": [
       "'2.0.0'"
      ]
     },
     "execution_count": 2,
     "metadata": {},
     "output_type": "execute_result"
    }
   ],
   "source": [
    "tf.__version__"
   ]
  },
  {
   "cell_type": "code",
   "execution_count": 3,
   "metadata": {},
   "outputs": [
    {
     "data": {
      "text/plain": [
       "((100, 150, 150, 3), (100,))"
      ]
     },
     "execution_count": 3,
     "metadata": {},
     "output_type": "execute_result"
    }
   ],
   "source": [
    "import numpy as np\n",
    "X=np.load('X.npy')\n",
    "X_std = X / 255.\n",
    "y=np.load('y.npy')\n",
    "X.shape,y.shape"
   ]
  },
  {
   "cell_type": "code",
   "execution_count": 5,
   "metadata": {},
   "outputs": [
    {
     "data": {
      "text/plain": [
       "(array([0, 1]), array([50, 50], dtype=int64))"
      ]
     },
     "execution_count": 5,
     "metadata": {},
     "output_type": "execute_result"
    }
   ],
   "source": [
    "np.unique(y, return_counts=True)"
   ]
  },
  {
   "cell_type": "code",
   "execution_count": 18,
   "metadata": {},
   "outputs": [
    {
     "name": "stdout",
     "output_type": "stream",
     "text": [
      "Downloading data from https://storage.googleapis.com/tensorflow/tf-keras-datasets/mnist.npz\n",
      "11493376/11490434 [==============================] - 0s 0us/step\n"
     ]
    },
    {
     "data": {
      "text/plain": [
       "((60000, 28, 28), (60000,))"
      ]
     },
     "execution_count": 18,
     "metadata": {},
     "output_type": "execute_result"
    }
   ],
   "source": [
    "mnist = tf.keras.datasets.mnist\n",
    "\n",
    "(x_train, y_train), (x_test, y_test) = mnist.load_data()\n",
    "x_train.shape, y_train.shape"
   ]
  },
  {
   "cell_type": "code",
   "execution_count": 46,
   "metadata": {},
   "outputs": [],
   "source": [
    "from tensorflow.keras.layers import Dense, Flatten, Conv2D , Dropout,MaxPooling2D\n",
    "from tensorflow.keras import Model\n",
    "\n",
    "model = Sequential([\n",
    "    Conv2D(8, 3, padding='same', activation='relu', input_shape=(150, 150 ,3)),\n",
    "    #MaxPooling2D(),\n",
    "    #Dropout(0.2),\n",
    "    Conv2D(8, 3, padding='same', activation='relu'),\n",
    "    MaxPooling2D(pool_size=(3,3)),\n",
    "    Dropout(0.25),\n",
    "    Conv2D(16, 3, padding='same', activation='relu'),\n",
    "    Conv2D(16, 3, padding='same', activation='relu'),\n",
    "    MaxPooling2D(pool_size=(3,3)),\n",
    "    Dropout(0.25),\n",
    "    Conv2D(24, 3, padding='same', activation='relu'),\n",
    "    Conv2D(24, 3, padding='same', activation='relu'),\n",
    "    MaxPooling2D(pool_size=(3,3)),\n",
    "    Dropout(0.25),\n",
    "    Flatten(),\n",
    "    Dense(300, activation='relu'),\n",
    "    Dense(128, activation='relu'),\n",
    "    Dense(1, activation='sigmoid')\n",
    "])\n"
   ]
  },
  {
   "cell_type": "code",
   "execution_count": 47,
   "metadata": {},
   "outputs": [
    {
     "name": "stdout",
     "output_type": "stream",
     "text": [
      "Model: \"sequential_11\"\n",
      "_________________________________________________________________\n",
      "Layer (type)                 Output Shape              Param #   \n",
      "=================================================================\n",
      "conv2d_70 (Conv2D)           (None, 150, 150, 8)       224       \n",
      "_________________________________________________________________\n",
      "conv2d_71 (Conv2D)           (None, 150, 150, 8)       584       \n",
      "_________________________________________________________________\n",
      "max_pooling2d_40 (MaxPooling (None, 50, 50, 8)         0         \n",
      "_________________________________________________________________\n",
      "dropout_47 (Dropout)         (None, 50, 50, 8)         0         \n",
      "_________________________________________________________________\n",
      "conv2d_72 (Conv2D)           (None, 50, 50, 16)        1168      \n",
      "_________________________________________________________________\n",
      "conv2d_73 (Conv2D)           (None, 50, 50, 16)        2320      \n",
      "_________________________________________________________________\n",
      "max_pooling2d_41 (MaxPooling (None, 16, 16, 16)        0         \n",
      "_________________________________________________________________\n",
      "dropout_48 (Dropout)         (None, 16, 16, 16)        0         \n",
      "_________________________________________________________________\n",
      "conv2d_74 (Conv2D)           (None, 16, 16, 24)        3480      \n",
      "_________________________________________________________________\n",
      "conv2d_75 (Conv2D)           (None, 16, 16, 24)        5208      \n",
      "_________________________________________________________________\n",
      "max_pooling2d_42 (MaxPooling (None, 5, 5, 24)          0         \n",
      "_________________________________________________________________\n",
      "dropout_49 (Dropout)         (None, 5, 5, 24)          0         \n",
      "_________________________________________________________________\n",
      "flatten_14 (Flatten)         (None, 600)               0         \n",
      "_________________________________________________________________\n",
      "dense_57 (Dense)             (None, 300)               180300    \n",
      "_________________________________________________________________\n",
      "dense_58 (Dense)             (None, 128)               38528     \n",
      "_________________________________________________________________\n",
      "dense_59 (Dense)             (None, 1)                 129       \n",
      "=================================================================\n",
      "Total params: 231,941\n",
      "Trainable params: 231,941\n",
      "Non-trainable params: 0\n",
      "_________________________________________________________________\n"
     ]
    }
   ],
   "source": [
    "model.compile(optimizer='adam',\n",
    "              loss='binary_crossentropy',\n",
    "              metrics=['accuracy'])\n",
    "model.summary()\n",
    "\n"
   ]
  },
  {
   "cell_type": "code",
   "execution_count": 53,
   "metadata": {},
   "outputs": [
    {
     "name": "stdout",
     "output_type": "stream",
     "text": [
      "Train on 100 samples\n",
      "Epoch 1/100\n",
      " 96/100 [===========================>..] - ETA: 0s - loss: 0.0341 - accuracy: 0.9896\n",
      "Epoch 00001: loss improved from inf to 0.03283, saving model to tf2_test.h5\n",
      "100/100 [==============================] - 1s 9ms/sample - loss: 0.0328 - accuracy: 0.9900\n",
      "Epoch 2/100\n",
      " 96/100 [===========================>..] - ETA: 0s - loss: 0.0118 - accuracy: 1.0000\n",
      "Epoch 00002: loss improved from 0.03283 to 0.01135, saving model to tf2_test.h5\n",
      "100/100 [==============================] - 1s 9ms/sample - loss: 0.0113 - accuracy: 1.0000\n",
      "Epoch 3/100\n",
      " 96/100 [===========================>..] - ETA: 0s - loss: 0.0178 - accuracy: 1.0000\n",
      "Epoch 00003: loss did not improve from 0.01135\n",
      "100/100 [==============================] - 1s 9ms/sample - loss: 0.0171 - accuracy: 1.0000\n",
      "Epoch 4/100\n",
      " 96/100 [===========================>..] - ETA: 0s - loss: 0.0057 - accuracy: 1.0000\n",
      "Epoch 00004: loss improved from 0.01135 to 0.00555, saving model to tf2_test.h5\n",
      "100/100 [==============================] - 1s 10ms/sample - loss: 0.0055 - accuracy: 1.0000\n",
      "Epoch 5/100\n",
      " 96/100 [===========================>..] - ETA: 0s - loss: 0.0270 - accuracy: 0.9896\n",
      "Epoch 00005: loss did not improve from 0.00555\n",
      "100/100 [==============================] - 1s 9ms/sample - loss: 0.0259 - accuracy: 0.9900\n",
      "Epoch 6/100\n",
      " 96/100 [===========================>..] - ETA: 0s - loss: 0.0125 - accuracy: 0.9896\n",
      "Epoch 00006: loss did not improve from 0.00555\n",
      "100/100 [==============================] - 1s 9ms/sample - loss: 0.0120 - accuracy: 0.9900\n",
      "Epoch 7/100\n",
      " 96/100 [===========================>..] - ETA: 0s - loss: 0.0153 - accuracy: 0.9896\n",
      "Epoch 00007: loss did not improve from 0.00555\n",
      "100/100 [==============================] - 1s 9ms/sample - loss: 0.0147 - accuracy: 0.9900\n",
      "Epoch 8/100\n",
      " 96/100 [===========================>..] - ETA: 0s - loss: 0.0137 - accuracy: 0.9896\n",
      "Epoch 00008: loss did not improve from 0.00555\n",
      "100/100 [==============================] - 1s 9ms/sample - loss: 0.0132 - accuracy: 0.9900\n",
      "Epoch 9/100\n",
      " 96/100 [===========================>..] - ETA: 0s - loss: 0.0097 - accuracy: 1.0000  \n",
      "Epoch 00009: loss did not improve from 0.00555\n",
      "100/100 [==============================] - 1s 9ms/sample - loss: 0.0093 - accuracy: 1.0000\n"
     ]
    },
    {
     "data": {
      "text/plain": [
       "<tensorflow.python.keras.callbacks.History at 0x1414bb52128>"
      ]
     },
     "execution_count": 53,
     "metadata": {},
     "output_type": "execute_result"
    }
   ],
   "source": [
    "\n",
    "callbacks = [\n",
    "        ModelCheckpoint(\n",
    "        filepath='tf2_test.h5',\n",
    "        # Path where to save the model\n",
    "        # The two parameters below mean that we will overwrite\n",
    "        # the current checkpoint if and only if\n",
    "        # the `val_loss` score has improved.\n",
    "        save_best_only=True,\n",
    "        monitor='loss',\n",
    "        verbose=1),\n",
    "        EarlyStopping(monitor='loss',min_delta=1e-5, patience=5)\n",
    "    \n",
    "]\n",
    "model.fit(x=X_std, y=y, epochs=100, shuffle=True, callbacks=callbacks )\n",
    "\n"
   ]
  },
  {
   "cell_type": "code",
   "execution_count": 64,
   "metadata": {},
   "outputs": [
    {
     "name": "stdout",
     "output_type": "stream",
     "text": [
      "Model: \"sequential_11\"\n",
      "_________________________________________________________________\n",
      "Layer (type)                 Output Shape              Param #   \n",
      "=================================================================\n",
      "conv2d_70 (Conv2D)           (None, 150, 150, 8)       224       \n",
      "_________________________________________________________________\n",
      "conv2d_71 (Conv2D)           (None, 150, 150, 8)       584       \n",
      "_________________________________________________________________\n",
      "max_pooling2d_40 (MaxPooling (None, 50, 50, 8)         0         \n",
      "_________________________________________________________________\n",
      "dropout_47 (Dropout)         (None, 50, 50, 8)         0         \n",
      "_________________________________________________________________\n",
      "conv2d_72 (Conv2D)           (None, 50, 50, 16)        1168      \n",
      "_________________________________________________________________\n",
      "conv2d_73 (Conv2D)           (None, 50, 50, 16)        2320      \n",
      "_________________________________________________________________\n",
      "max_pooling2d_41 (MaxPooling (None, 16, 16, 16)        0         \n",
      "_________________________________________________________________\n",
      "dropout_48 (Dropout)         (None, 16, 16, 16)        0         \n",
      "_________________________________________________________________\n",
      "conv2d_74 (Conv2D)           (None, 16, 16, 24)        3480      \n",
      "_________________________________________________________________\n",
      "conv2d_75 (Conv2D)           (None, 16, 16, 24)        5208      \n",
      "_________________________________________________________________\n",
      "max_pooling2d_42 (MaxPooling (None, 5, 5, 24)          0         \n",
      "_________________________________________________________________\n",
      "dropout_49 (Dropout)         (None, 5, 5, 24)          0         \n",
      "_________________________________________________________________\n",
      "flatten_14 (Flatten)         (None, 600)               0         \n",
      "_________________________________________________________________\n",
      "dense_57 (Dense)             (None, 300)               180300    \n",
      "_________________________________________________________________\n",
      "dense_58 (Dense)             (None, 128)               38528     \n",
      "_________________________________________________________________\n",
      "dense_59 (Dense)             (None, 1)                 129       \n",
      "=================================================================\n",
      "Total params: 231,941\n",
      "Trainable params: 231,941\n",
      "Non-trainable params: 0\n",
      "_________________________________________________________________\n"
     ]
    }
   ],
   "source": [
    "from tensorflow.keras.models import load_model\n",
    "loaded_model=load_model('tf2_test.h5')\n",
    "loaded_model.summary()"
   ]
  },
  {
   "cell_type": "code",
   "execution_count": 65,
   "metadata": {},
   "outputs": [
    {
     "data": {
      "image/png": "[encoded data removed]",
      "text/plain": [
       "<Figure size 432x288 with 1 Axes>"
      ]
     },
     "metadata": {
      "needs_background": "light"
     },
     "output_type": "display_data"
    }
   ],
   "source": [
    "# use loaded model to make prediction\n",
    "rn=random.randint(0,len(X)-1)\n",
    "out=loaded_model.predict(X_std[rn].reshape(1,150,150,3))\n",
    "true_label= 'Pneumonia' if y[rn]==1 else 'Normal'\n",
    "plt.imshow(X[rn])\n",
    "plt.title(\"true label {} | predicted proba {} having Pneumonia\".format(true_label,str(round(out[0][0],3))))\n",
    "plt.show()"
   ]
  }
 ],
 "metadata": {
  "kernelspec": {
   "display_name": "Python 3",
   "language": "python",
   "name": "python3"
  },
  "language_info": {
   "codemirror_mode": {
    "name": "ipython",
    "version": 3
   },
   "file_extension": ".py",
   "mimetype": "text/x-python",
   "name": "python",
   "nbconvert_exporter": "python",
   "pygments_lexer": "ipython3",
   "version": "3.6.8"
  }
 },
 "nbformat": 4,
 "nbformat_minor": 2
}
