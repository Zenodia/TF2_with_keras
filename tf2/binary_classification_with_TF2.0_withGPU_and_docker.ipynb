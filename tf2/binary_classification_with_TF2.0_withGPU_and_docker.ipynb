{
 "cells": [
  {
   "cell_type": "code",
   "execution_count": null,
   "metadata": {},
   "outputs": [],
   "source": [
    "\"\"\"\n",
    "#in your Azure Deep Learning ubuntu vm Network Security Group, enable in&outbound rules for port 8888\n",
    "#cd to the host directory where you have your custom jupyter notebooks\n",
    "#in a ubuntu GPU enabled VM , open a terminal and type\n",
    "sudo docker login \n",
    "sudo docker pull tensorflow/tensorflow:latest-gpu-jupyter\n",
    "sudo docker run -it -p 8888:8888 -v $(pwd):/tf/notebooks tensorflow/tensorflow:latest-gpu-jupyter\n",
    "\n",
    "#open another terminal \n",
    "type in firefox\n",
    "# in the browser type in\n",
    "localhost:8888\n",
    "#enter key you obtained above when running docker \n",
    "run through the sample jupyter notebook you have in the host directory\n",
    "reference url : \n",
    "https://www.tensorflow.org/guide/distributed_training#using_tfdistributestrategy_with_keras\n",
    "https://www.tensorflow.org/install/docker\n",
    "\n",
    "\"\"\""
   ]
  },
  {
   "cell_type": "code",
   "execution_count": 1,
   "metadata": {},
   "outputs": [],
   "source": [
    "from __future__ import absolute_import, division, print_function, unicode_literals\n",
    "# Install TensorFlow using pip in conda environment , make sure to create py36 \n",
    "# conda env create -n tf2_py36 python=3.6 anaconda to create the environment\n",
    "# once created the environment conda activate tf2_py36 and then pip install TF2.0\n",
    "# pip install tensorflow==2.0.0 \n",
    "\n",
    "import tensorflow as tf\n",
    "from tensorflow.keras.models import Sequential\n",
    "from tensorflow.keras.layers import Dense, Conv2D, Flatten, Dropout, MaxPooling2D\n",
    "from tensorflow.keras.callbacks import EarlyStopping, Callback , ModelCheckpoint\n",
    "import os\n",
    "import numpy as np\n",
    "import matplotlib.pyplot as plt\n",
    "import random\n",
    "\n",
    "%matplotlib inline"
   ]
  },
  {
   "cell_type": "code",
   "execution_count": 2,
   "metadata": {},
   "outputs": [
    {
     "data": {
      "text/plain": [
       "'2.0.0'"
      ]
     },
     "execution_count": 2,
     "metadata": {},
     "output_type": "execute_result"
    }
   ],
   "source": [
    "tf.__version__"
   ]
  },
  {
   "cell_type": "code",
   "execution_count": 15,
   "metadata": {},
   "outputs": [
    {
     "name": "stdout",
     "output_type": "stream",
     "text": [
      "/tf/notebooks\n"
     ]
    },
    {
     "data": {
      "text/plain": [
       "[u'X.npy',\n",
       " u'.ipynb_checkpoints',\n",
       " u'binary_classification_with_TF2.0_withGPU_and_docker.ipynb',\n",
       " u'Y.npy',\n",
       " u'tf2_test.h5']"
      ]
     },
     "execution_count": 15,
     "metadata": {},
     "output_type": "execute_result"
    }
   ],
   "source": [
    "#check that you are inside docker's mounted host2docker directory\n",
    "print(os.path.abspath('.'))\n",
    "#list all files you can see from within this directory\n",
    "os.listdir('.')"
   ]
  },
  {
   "cell_type": "code",
   "execution_count": 7,
   "metadata": {},
   "outputs": [
    {
     "data": {
      "text/plain": [
       "((100, 150, 150, 3), (100,))"
      ]
     },
     "execution_count": 7,
     "metadata": {},
     "output_type": "execute_result"
    }
   ],
   "source": [
    "import numpy as np\n",
    "X=np.load('X.npy')\n",
    "X_std = X / 255.\n",
    "y=np.load('Y.npy')\n",
    "X.shape,y.shape"
   ]
  },
  {
   "cell_type": "code",
   "execution_count": 8,
   "metadata": {},
   "outputs": [
    {
     "data": {
      "text/plain": [
       "(array([0, 1], dtype=int32), array([50, 50]))"
      ]
     },
     "execution_count": 8,
     "metadata": {},
     "output_type": "execute_result"
    }
   ],
   "source": [
    "np.unique(y, return_counts=True)"
   ]
  },
  {
   "cell_type": "code",
   "execution_count": 9,
   "metadata": {},
   "outputs": [
    {
     "name": "stdout",
     "output_type": "stream",
     "text": [
      "WARNING:tensorflow:There is non-GPU devices in `tf.distribute.Strategy`, not using nccl allreduce.\n"
     ]
    }
   ],
   "source": [
    "from tensorflow.keras.layers import Dense, Flatten, Conv2D , Dropout,MaxPooling2D\n",
    "from tensorflow.keras import Model\n",
    "# this is the default distributed strategy API tensorflow2.0 \n",
    "# provided for keras for one machine,multiple GPU training\n",
    "\n",
    "mirrired_strategy=tf.distribute.MirroredStrategy()\n",
    "with mirrired_strategy.scope():\n",
    "    model = Sequential([\n",
    "        Conv2D(8, 3, padding='same', activation='relu', input_shape=(150, 150 ,3)),\n",
    "        #MaxPooling2D(),\n",
    "        #Dropout(0.2),\n",
    "        Conv2D(8, 3, padding='same', activation='relu'),\n",
    "        MaxPooling2D(pool_size=(3,3)),\n",
    "        Dropout(0.25),\n",
    "        Conv2D(16, 3, padding='same', activation='relu'),\n",
    "        Conv2D(16, 3, padding='same', activation='relu'),\n",
    "        MaxPooling2D(pool_size=(3,3)),\n",
    "        Dropout(0.25),\n",
    "        Conv2D(24, 3, padding='same', activation='relu'),\n",
    "        Conv2D(24, 3, padding='same', activation='relu'),\n",
    "        MaxPooling2D(pool_size=(3,3)),\n",
    "        Dropout(0.25),\n",
    "        Flatten(),\n",
    "        Dense(300, activation='relu'),\n",
    "        Dense(128, activation='relu'),\n",
    "        Dense(1, activation='sigmoid')\n",
    "    ])\n",
    "    model.compile(optimizer='adam',\n",
    "              loss='binary_crossentropy',\n",
    "              metrics=['accuracy'])\n"
   ]
  },
  {
   "cell_type": "code",
   "execution_count": 10,
   "metadata": {},
   "outputs": [
    {
     "name": "stdout",
     "output_type": "stream",
     "text": [
      "Model: \"sequential\"\n",
      "_________________________________________________________________\n",
      "Layer (type)                 Output Shape              Param #   \n",
      "=================================================================\n",
      "conv2d (Conv2D)              (None, 150, 150, 8)       224       \n",
      "_________________________________________________________________\n",
      "conv2d_1 (Conv2D)            (None, 150, 150, 8)       584       \n",
      "_________________________________________________________________\n",
      "max_pooling2d (MaxPooling2D) (None, 50, 50, 8)         0         \n",
      "_________________________________________________________________\n",
      "dropout (Dropout)            (None, 50, 50, 8)         0         \n",
      "_________________________________________________________________\n",
      "conv2d_2 (Conv2D)            (None, 50, 50, 16)        1168      \n",
      "_________________________________________________________________\n",
      "conv2d_3 (Conv2D)            (None, 50, 50, 16)        2320      \n",
      "_________________________________________________________________\n",
      "max_pooling2d_1 (MaxPooling2 (None, 16, 16, 16)        0         \n",
      "_________________________________________________________________\n",
      "dropout_1 (Dropout)          (None, 16, 16, 16)        0         \n",
      "_________________________________________________________________\n",
      "conv2d_4 (Conv2D)            (None, 16, 16, 24)        3480      \n",
      "_________________________________________________________________\n",
      "conv2d_5 (Conv2D)            (None, 16, 16, 24)        5208      \n",
      "_________________________________________________________________\n",
      "max_pooling2d_2 (MaxPooling2 (None, 5, 5, 24)          0         \n",
      "_________________________________________________________________\n",
      "dropout_2 (Dropout)          (None, 5, 5, 24)          0         \n",
      "_________________________________________________________________\n",
      "flatten (Flatten)            (None, 600)               0         \n",
      "_________________________________________________________________\n",
      "dense (Dense)                (None, 300)               180300    \n",
      "_________________________________________________________________\n",
      "dense_1 (Dense)              (None, 128)               38528     \n",
      "_________________________________________________________________\n",
      "dense_2 (Dense)              (None, 1)                 129       \n",
      "=================================================================\n",
      "Total params: 231,941\n",
      "Trainable params: 231,941\n",
      "Non-trainable params: 0\n",
      "_________________________________________________________________\n"
     ]
    }
   ],
   "source": [
    "\n",
    "model.summary()\n",
    "\n"
   ]
  },
  {
   "cell_type": "code",
   "execution_count": 11,
   "metadata": {},
   "outputs": [
    {
     "name": "stdout",
     "output_type": "stream",
     "text": [
      "Train on 100 samples\n",
      "Epoch 1/100\n",
      " 96/100 [===========================>..] - ETA: 0s - loss: 0.7019 - accuracy: 0.4688\n",
      "Epoch 00001: loss improved from inf to 0.70398, saving model to tf2_test.h5\n",
      "100/100 [==============================] - 4s 39ms/sample - loss: 0.7040 - accuracy: 0.4600\n",
      "Epoch 2/100\n",
      " 96/100 [===========================>..] - ETA: 0s - loss: 0.6872 - accuracy: 0.6250\n",
      "Epoch 00002: loss improved from 0.70398 to 0.68754, saving model to tf2_test.h5\n",
      "100/100 [==============================] - 1s 7ms/sample - loss: 0.6875 - accuracy: 0.6300\n",
      "Epoch 3/100\n",
      " 96/100 [===========================>..] - ETA: 0s - loss: 0.6916 - accuracy: 0.5000\n",
      "Epoch 00003: loss did not improve from 0.68754\n",
      "100/100 [==============================] - 1s 7ms/sample - loss: 0.6913 - accuracy: 0.5000\n",
      "Epoch 4/100\n",
      " 96/100 [===========================>..] - ETA: 0s - loss: 0.6889 - accuracy: 0.5104\n",
      "Epoch 00004: loss did not improve from 0.68754\n",
      "100/100 [==============================] - 1s 7ms/sample - loss: 0.6889 - accuracy: 0.5100\n",
      "Epoch 5/100\n",
      " 96/100 [===========================>..] - ETA: 0s - loss: 0.6820 - accuracy: 0.6562\n",
      "Epoch 00005: loss improved from 0.68754 to 0.68151, saving model to tf2_test.h5\n",
      "100/100 [==============================] - 1s 7ms/sample - loss: 0.6815 - accuracy: 0.6600\n",
      "Epoch 6/100\n",
      " 96/100 [===========================>..] - ETA: 0s - loss: 0.6674 - accuracy: 0.8229\n",
      "Epoch 00006: loss improved from 0.68151 to 0.66726, saving model to tf2_test.h5\n",
      "100/100 [==============================] - 1s 7ms/sample - loss: 0.6673 - accuracy: 0.8300\n",
      "Epoch 7/100\n",
      " 96/100 [===========================>..] - ETA: 0s - loss: 0.6351 - accuracy: 0.6979\n",
      "Epoch 00007: loss improved from 0.66726 to 0.63056, saving model to tf2_test.h5\n",
      "100/100 [==============================] - 1s 7ms/sample - loss: 0.6306 - accuracy: 0.7100\n",
      "Epoch 8/100\n",
      " 96/100 [===========================>..] - ETA: 0s - loss: 0.5855 - accuracy: 0.6042\n",
      "Epoch 00008: loss improved from 0.63056 to 0.58218, saving model to tf2_test.h5\n",
      "100/100 [==============================] - 1s 7ms/sample - loss: 0.5822 - accuracy: 0.6100\n",
      "Epoch 9/100\n",
      " 96/100 [===========================>..] - ETA: 0s - loss: 0.5155 - accuracy: 0.8229\n",
      "Epoch 00009: loss improved from 0.58218 to 0.50697, saving model to tf2_test.h5\n",
      "100/100 [==============================] - 1s 7ms/sample - loss: 0.5070 - accuracy: 0.8300\n",
      "Epoch 10/100\n",
      " 96/100 [===========================>..] - ETA: 0s - loss: 0.4987 - accuracy: 0.7708\n",
      "Epoch 00010: loss improved from 0.50697 to 0.49068, saving model to tf2_test.h5\n",
      "100/100 [==============================] - 1s 7ms/sample - loss: 0.4907 - accuracy: 0.7800\n",
      "Epoch 11/100\n",
      " 96/100 [===========================>..] - ETA: 0s - loss: 0.4262 - accuracy: 0.8229\n",
      "Epoch 00011: loss improved from 0.49068 to 0.42414, saving model to tf2_test.h5\n",
      "100/100 [==============================] - 1s 7ms/sample - loss: 0.4241 - accuracy: 0.8200\n",
      "Epoch 12/100\n",
      " 96/100 [===========================>..] - ETA: 0s - loss: 0.3704 - accuracy: 0.8333\n",
      "Epoch 00012: loss improved from 0.42414 to 0.36105, saving model to tf2_test.h5\n",
      "100/100 [==============================] - 1s 7ms/sample - loss: 0.3610 - accuracy: 0.8400\n",
      "Epoch 13/100\n",
      " 96/100 [===========================>..] - ETA: 0s - loss: 0.2946 - accuracy: 0.8750\n",
      "Epoch 00013: loss improved from 0.36105 to 0.30997, saving model to tf2_test.h5\n",
      "100/100 [==============================] - 1s 7ms/sample - loss: 0.3100 - accuracy: 0.8700\n",
      "Epoch 14/100\n",
      " 96/100 [===========================>..] - ETA: 0s - loss: 0.3108 - accuracy: 0.8542\n",
      "Epoch 00014: loss improved from 0.30997 to 0.30253, saving model to tf2_test.h5\n",
      "100/100 [==============================] - 1s 7ms/sample - loss: 0.3025 - accuracy: 0.8600\n",
      "Epoch 15/100\n",
      " 96/100 [===========================>..] - ETA: 0s - loss: 0.2802 - accuracy: 0.9062\n",
      "Epoch 00015: loss improved from 0.30253 to 0.27122, saving model to tf2_test.h5\n",
      "100/100 [==============================] - 1s 7ms/sample - loss: 0.2712 - accuracy: 0.9100\n",
      "Epoch 16/100\n",
      " 96/100 [===========================>..] - ETA: 0s - loss: 0.2074 - accuracy: 0.9167\n",
      "Epoch 00016: loss improved from 0.27122 to 0.20774, saving model to tf2_test.h5\n",
      "100/100 [==============================] - 1s 7ms/sample - loss: 0.2077 - accuracy: 0.9200\n",
      "Epoch 17/100\n",
      " 96/100 [===========================>..] - ETA: 0s - loss: 0.2584 - accuracy: 0.8854\n",
      "Epoch 00017: loss did not improve from 0.20774\n",
      "100/100 [==============================] - 1s 7ms/sample - loss: 0.2492 - accuracy: 0.8900\n",
      "Epoch 18/100\n",
      " 96/100 [===========================>..] - ETA: 0s - loss: 0.2140 - accuracy: 0.9167\n",
      "Epoch 00018: loss did not improve from 0.20774\n",
      "100/100 [==============================] - 1s 7ms/sample - loss: 0.2110 - accuracy: 0.9200\n",
      "Epoch 19/100\n",
      " 96/100 [===========================>..] - ETA: 0s - loss: 0.1529 - accuracy: 0.9479\n",
      "Epoch 00019: loss improved from 0.20774 to 0.15186, saving model to tf2_test.h5\n",
      "100/100 [==============================] - 1s 7ms/sample - loss: 0.1519 - accuracy: 0.9500\n",
      "Epoch 20/100\n",
      " 96/100 [===========================>..] - ETA: 0s - loss: 0.1654 - accuracy: 0.9583\n",
      "Epoch 00020: loss did not improve from 0.15186\n",
      "100/100 [==============================] - 1s 7ms/sample - loss: 0.1589 - accuracy: 0.9600\n",
      "Epoch 21/100\n",
      " 96/100 [===========================>..] - ETA: 0s - loss: 0.2631 - accuracy: 0.8750\n",
      "Epoch 00021: loss did not improve from 0.15186\n",
      "100/100 [==============================] - 1s 6ms/sample - loss: 0.2545 - accuracy: 0.8800\n",
      "Epoch 22/100\n",
      " 96/100 [===========================>..] - ETA: 0s - loss: 0.2582 - accuracy: 0.9062\n",
      "Epoch 00022: loss did not improve from 0.15186\n",
      "100/100 [==============================] - 1s 7ms/sample - loss: 0.2483 - accuracy: 0.9100\n",
      "Epoch 23/100\n",
      " 96/100 [===========================>..] - ETA: 0s - loss: 0.1569 - accuracy: 0.9375\n",
      "Epoch 00023: loss did not improve from 0.15186\n",
      "100/100 [==============================] - 1s 7ms/sample - loss: 0.1731 - accuracy: 0.9300\n",
      "Epoch 24/100\n",
      " 96/100 [===========================>..] - ETA: 0s - loss: 0.1131 - accuracy: 0.9688\n",
      "Epoch 00024: loss improved from 0.15186 to 0.11798, saving model to tf2_test.h5\n",
      "100/100 [==============================] - 1s 7ms/sample - loss: 0.1180 - accuracy: 0.9700\n",
      "Epoch 25/100\n",
      " 96/100 [===========================>..] - ETA: 0s - loss: 0.1179 - accuracy: 0.9792\n",
      "Epoch 00025: loss improved from 0.11798 to 0.11591, saving model to tf2_test.h5\n",
      "100/100 [==============================] - 1s 7ms/sample - loss: 0.1159 - accuracy: 0.9800\n",
      "Epoch 26/100\n",
      " 96/100 [===========================>..] - ETA: 0s - loss: 0.0864 - accuracy: 0.9792\n",
      "Epoch 00026: loss improved from 0.11591 to 0.09200, saving model to tf2_test.h5\n",
      "100/100 [==============================] - 1s 7ms/sample - loss: 0.0920 - accuracy: 0.9700\n",
      "Epoch 27/100\n",
      " 96/100 [===========================>..] - ETA: 0s - loss: 0.1117 - accuracy: 0.9479\n",
      "Epoch 00027: loss did not improve from 0.09200\n",
      "100/100 [==============================] - 1s 6ms/sample - loss: 0.1080 - accuracy: 0.9500\n",
      "Epoch 28/100\n",
      " 96/100 [===========================>..] - ETA: 0s - loss: 0.0953 - accuracy: 0.9688\n",
      "Epoch 00028: loss did not improve from 0.09200\n",
      "100/100 [==============================] - 1s 6ms/sample - loss: 0.1056 - accuracy: 0.9600\n",
      "Epoch 29/100\n",
      " 96/100 [===========================>..] - ETA: 0s - loss: 0.0769 - accuracy: 0.9688\n",
      "Epoch 00029: loss improved from 0.09200 to 0.07399, saving model to tf2_test.h5\n",
      "100/100 [==============================] - 1s 7ms/sample - loss: 0.0740 - accuracy: 0.9700\n",
      "Epoch 30/100\n",
      " 96/100 [===========================>..] - ETA: 0s - loss: 0.0745 - accuracy: 0.9688\n",
      "Epoch 00030: loss improved from 0.07399 to 0.07151, saving model to tf2_test.h5\n",
      "100/100 [==============================] - 1s 7ms/sample - loss: 0.0715 - accuracy: 0.9700\n",
      "Epoch 31/100\n",
      " 96/100 [===========================>..] - ETA: 0s - loss: 0.0762 - accuracy: 0.9583\n",
      "Epoch 00031: loss did not improve from 0.07151\n",
      "100/100 [==============================] - 1s 7ms/sample - loss: 0.0733 - accuracy: 0.9600\n",
      "Epoch 32/100\n",
      " 96/100 [===========================>..] - ETA: 0s - loss: 0.0362 - accuracy: 0.9896\n",
      "Epoch 00032: loss improved from 0.07151 to 0.03528, saving model to tf2_test.h5\n",
      "100/100 [==============================] - 1s 7ms/sample - loss: 0.0353 - accuracy: 0.9900\n"
     ]
    },
    {
     "name": "stdout",
     "output_type": "stream",
     "text": [
      "Epoch 33/100\n",
      " 96/100 [===========================>..] - ETA: 0s - loss: 0.0786 - accuracy: 0.9792\n",
      "Epoch 00033: loss did not improve from 0.03528\n",
      "100/100 [==============================] - 1s 6ms/sample - loss: 0.0782 - accuracy: 0.9800\n",
      "Epoch 34/100\n",
      " 96/100 [===========================>..] - ETA: 0s - loss: 0.0365 - accuracy: 0.9792\n",
      "Epoch 00034: loss did not improve from 0.03528\n",
      "100/100 [==============================] - 1s 7ms/sample - loss: 0.0359 - accuracy: 0.9800\n",
      "Epoch 35/100\n",
      " 96/100 [===========================>..] - ETA: 0s - loss: 0.0473 - accuracy: 0.9896\n",
      "Epoch 00035: loss did not improve from 0.03528\n",
      "100/100 [==============================] - 1s 7ms/sample - loss: 0.0455 - accuracy: 0.9900\n",
      "Epoch 36/100\n",
      " 96/100 [===========================>..] - ETA: 0s - loss: 0.0426 - accuracy: 0.9792\n",
      "Epoch 00036: loss did not improve from 0.03528\n",
      "100/100 [==============================] - 1s 7ms/sample - loss: 0.0410 - accuracy: 0.9800\n",
      "Epoch 37/100\n",
      " 96/100 [===========================>..] - ETA: 0s - loss: 0.0179 - accuracy: 0.9896\n",
      "Epoch 00037: loss improved from 0.03528 to 0.01745, saving model to tf2_test.h5\n",
      "100/100 [==============================] - 1s 7ms/sample - loss: 0.0175 - accuracy: 0.9900\n",
      "Epoch 38/100\n",
      " 96/100 [===========================>..] - ETA: 0s - loss: 0.0423 - accuracy: 0.9896\n",
      "Epoch 00038: loss did not improve from 0.01745\n",
      "100/100 [==============================] - 1s 7ms/sample - loss: 0.0422 - accuracy: 0.9900\n",
      "Epoch 39/100\n",
      " 96/100 [===========================>..] - ETA: 0s - loss: 0.0139 - accuracy: 1.0000\n",
      "Epoch 00039: loss did not improve from 0.01745\n",
      "100/100 [==============================] - 1s 6ms/sample - loss: 0.0324 - accuracy: 0.9900\n",
      "Epoch 40/100\n",
      " 96/100 [===========================>..] - ETA: 0s - loss: 0.0884 - accuracy: 0.9792\n",
      "Epoch 00040: loss did not improve from 0.01745\n",
      "100/100 [==============================] - 1s 7ms/sample - loss: 0.0974 - accuracy: 0.9700\n",
      "Epoch 41/100\n",
      " 96/100 [===========================>..] - ETA: 0s - loss: 0.0434 - accuracy: 0.9896\n",
      "Epoch 00041: loss did not improve from 0.01745\n",
      "100/100 [==============================] - 1s 6ms/sample - loss: 0.0418 - accuracy: 0.9900\n",
      "Epoch 42/100\n",
      " 96/100 [===========================>..] - ETA: 0s - loss: 0.1928 - accuracy: 0.9375\n",
      "Epoch 00042: loss did not improve from 0.01745\n",
      "100/100 [==============================] - 1s 6ms/sample - loss: 0.1851 - accuracy: 0.9400\n"
     ]
    },
    {
     "data": {
      "text/plain": [
       "<tensorflow.python.keras.callbacks.History at 0x7fda13fb6c90>"
      ]
     },
     "execution_count": 11,
     "metadata": {},
     "output_type": "execute_result"
    }
   ],
   "source": [
    "\n",
    "callbacks = [\n",
    "        ModelCheckpoint(\n",
    "        filepath='tf2_test.h5',\n",
    "        # Path where to save the model\n",
    "        # The two parameters below mean that we will overwrite\n",
    "        # the current checkpoint if and only if\n",
    "        # the `val_loss` score has improved.\n",
    "        save_best_only=True,\n",
    "        monitor='loss',\n",
    "        verbose=1),\n",
    "        EarlyStopping(monitor='loss',min_delta=1e-5, patience=5)\n",
    "    \n",
    "]\n",
    "model.fit(x=X_std, y=y, epochs=100, shuffle=True, callbacks=callbacks )\n",
    "\n"
   ]
  },
  {
   "cell_type": "code",
   "execution_count": 13,
   "metadata": {},
   "outputs": [
    {
     "name": "stdout",
     "output_type": "stream",
     "text": [
      "Model: \"sequential\"\n",
      "_________________________________________________________________\n",
      "Layer (type)                 Output Shape              Param #   \n",
      "=================================================================\n",
      "conv2d (Conv2D)              (None, 150, 150, 8)       224       \n",
      "_________________________________________________________________\n",
      "conv2d_1 (Conv2D)            (None, 150, 150, 8)       584       \n",
      "_________________________________________________________________\n",
      "max_pooling2d (MaxPooling2D) (None, 50, 50, 8)         0         \n",
      "_________________________________________________________________\n",
      "dropout (Dropout)            (None, 50, 50, 8)         0         \n",
      "_________________________________________________________________\n",
      "conv2d_2 (Conv2D)            (None, 50, 50, 16)        1168      \n",
      "_________________________________________________________________\n",
      "conv2d_3 (Conv2D)            (None, 50, 50, 16)        2320      \n",
      "_________________________________________________________________\n",
      "max_pooling2d_1 (MaxPooling2 (None, 16, 16, 16)        0         \n",
      "_________________________________________________________________\n",
      "dropout_1 (Dropout)          (None, 16, 16, 16)        0         \n",
      "_________________________________________________________________\n",
      "conv2d_4 (Conv2D)            (None, 16, 16, 24)        3480      \n",
      "_________________________________________________________________\n",
      "conv2d_5 (Conv2D)            (None, 16, 16, 24)        5208      \n",
      "_________________________________________________________________\n",
      "max_pooling2d_2 (MaxPooling2 (None, 5, 5, 24)          0         \n",
      "_________________________________________________________________\n",
      "dropout_2 (Dropout)          (None, 5, 5, 24)          0         \n",
      "_________________________________________________________________\n",
      "flatten (Flatten)            (None, 600)               0         \n",
      "_________________________________________________________________\n",
      "dense (Dense)                (None, 300)               180300    \n",
      "_________________________________________________________________\n",
      "dense_1 (Dense)              (None, 128)               38528     \n",
      "_________________________________________________________________\n",
      "dense_2 (Dense)              (None, 1)                 129       \n",
      "=================================================================\n",
      "Total params: 231,941\n",
      "Trainable params: 231,941\n",
      "Non-trainable params: 0\n",
      "_________________________________________________________________\n"
     ]
    }
   ],
   "source": [
    "from tensorflow.keras.models import load_model\n",
    "loaded_model=load_model('tf2_test.h5')\n",
    "loaded_model.summary()"
   ]
  },
  {
   "cell_type": "code",
   "execution_count": 14,
   "metadata": {},
   "outputs": [
    {
     "data": {
      "image/png": "[encoded data removed]",
      "text/plain": [
       "<Figure size 432x288 with 1 Axes>"
      ]
     },
     "metadata": {
      "needs_background": "light"
     },
     "output_type": "display_data"
    }
   ],
   "source": [
    "# use loaded model to make prediction\n",
    "rn=random.randint(0,len(X)-1)\n",
    "out=loaded_model.predict(X_std[rn].reshape(1,150,150,3))\n",
    "true_label= 'Pneumonia' if y[rn]==1 else 'Normal'\n",
    "plt.imshow(X[rn])\n",
    "plt.title(\"true label {} | predicted proba {} having Pneumonia\".format(true_label,str(round(out[0][0],3))))\n",
    "plt.show()"
   ]
  }
 ],
 "metadata": {
  "kernelspec": {
   "display_name": "Python 2",
   "language": "python",
   "name": "python2"
  },
  "language_info": {
   "codemirror_mode": {
    "name": "ipython",
    "version": 2
   },
   "file_extension": ".py",
   "mimetype": "text/x-python",
   "name": "python",
   "nbconvert_exporter": "python",
   "pygments_lexer": "ipython2",
   "version": "2.7.15+"
  }
 },
 "nbformat": 4,
 "nbformat_minor": 2
}
